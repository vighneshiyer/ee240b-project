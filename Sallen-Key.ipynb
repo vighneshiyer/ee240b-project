{
 "cells": [
  {
   "cell_type": "code",
   "execution_count": 55,
   "metadata": {},
   "outputs": [
    {
     "name": "stdout",
     "output_type": "stream",
     "text": [
      "We're using ahkab 0.18\n"
     ]
    }
   ],
   "source": [
    "from IPython.core.interactiveshell import InteractiveShell\n",
    "InteractiveShell.ast_node_interactivity = \"all\"\n",
    "\n",
    "import ahkab\n",
    "import numpy as np\n",
    "import matplotlib.pyplot as plt\n",
    "import sympy as sp\n",
    "from sympy.abc import f\n",
    "from sympy import I\n",
    "from scipy.constants import k\n",
    "import scipy, scipy.interpolate\n",
    "print(\"We're using ahkab %s\" % ahkab.__version__)"
   ]
  },
  {
   "cell_type": "code",
   "execution_count": 2,
   "metadata": {},
   "outputs": [
    {
     "name": "stdout",
     "output_type": "stream",
     "text": [
      "* 2nd Order Sallen-Key LPF\n",
      "CL out 0 4e-14\n",
      "R1 in n1 1000\n",
      "Inr1 in n1 type=idc value=0 \n",
      "R2 n1 n2 1000\n",
      "Inr2 n1 n2 type=idc value=0 \n",
      "C1 n1 out 1e-09\n",
      "C2 n2 0 1e-09\n",
      "E1 out 0 n2 out 100\n",
      "Ine1 out 0 type=idc value=0 \n",
      "V1 in 0 type=vdc value=0 vac=1 \n"
     ]
    }
   ],
   "source": [
    "# Build circuit.\n",
    "# When components change, must rerun this cell for AC analysis to have new transfer function.\n",
    "lpf = ahkab.Circuit('2nd Order Sallen-Key LPF')\n",
    "# https://en.wikipedia.org/wiki/Sallen–Key_topology\n",
    "Av = 100 #ideal voltage gain\n",
    "ro = 200 #non-ideal output resistance\n",
    "Cload = 40e-15\n",
    "lpf.add_capacitor('CL', 'out', lpf.gnd, Cload) #load\n",
    "\n",
    "lpf.add_resistor('R1', 'in', 'n1', 1e3)\n",
    "lpf.add_isource('Inr1', 'in', 'n1', dc_value=0, ac_value=0) #R1 noise current\n",
    "lpf.add_resistor('R2', 'n1', 'n2', 1e3)\n",
    "lpf.add_isource('Inr2', 'n1', 'n2', dc_value=0, ac_value=0) #R2 noise current\n",
    "lpf.add_capacitor('C1', 'n1', 'out', 1e-9)\n",
    "lpf.add_capacitor('C2', 'n2', lpf.gnd, 1e-9)\n",
    "lpf.add_vcvs('E1', 'out', lpf.gnd, 'n2', 'out', Av)\n",
    "#lpf.add_resistor('RO', 'out', 'ne', ro) #DANGER: this blows up the solution\n",
    "lpf.add_isource('Ine1', 'out', lpf.gnd, dc_value=0, ac_value=0) #op-amp total output noise current\n",
    "\n",
    "# voltage sources for AC simulation\n",
    "lpf.add_vsource('V1', 'in', lpf.gnd, dc_value=0, ac_value=1)\n",
    "print(lpf)"
   ]
  },
  {
   "cell_type": "code",
   "execution_count": 54,
   "metadata": {},
   "outputs": [
    {
     "data": {
      "text/plain": [
       "['VOUT', 'VIN', 'VN1', 'VN2', 'I(E1)', 'I(V1)']"
      ]
     },
     "execution_count": 54,
     "metadata": {},
     "output_type": "execute_result"
    },
    {
     "data": {
      "text/plain": [
       "['f', 'Vout', 'Vin', 'Vn1', 'Vn2', 'I(E1)', 'I(V1)']"
      ]
     },
     "execution_count": 54,
     "metadata": {},
     "output_type": "execute_result"
    },
    {
     "name": "stdout",
     "output_type": "stream",
     "text": [
      "Transfer function: 1/(C1*C2*R1*R2*s**2 + C2*R1*s + C2*R2*s + 1.0)\n",
      "Poles: [0.5*(-sqrt(C2)*(R1 + R2) + sqrt(-4.0*C1*R1*R2 + C2*R1**2 + 2.0*C2*R1*R2 + C2*R2**2))/(C1*sqrt(C2)*R1*R2), -0.5*(sqrt(C2)*(R1 + R2) + sqrt(-4.0*C1*R1*R2 + C2*R1**2 + 2.0*C2*R1*R2 + C2*R2**2))/(C1*sqrt(C2)*R1*R2)]\n",
      "R1 noise current TF: R1/(C1*C2*R1*R2*s**2 + C2*R1*s + C2*R2*s + 1.0)\n",
      "R2 noise current TF: R2*(C1*R1*s + 1)/(C1*C2*R1*R2*s**2 + C2*R1*s + C2*R2*s + 1.0)\n",
      "Opamp noise current TF: 0\n"
     ]
    }
   ],
   "source": [
    "# Vin to Vout analysis\n",
    "opa = ahkab.new_op()\n",
    "aca = ahkab.new_ac(start=1e3, stop=1e9, points=100)\n",
    "syma = ahkab.new_symbolic(source='V1')\n",
    "r = ahkab.run(lpf, [opa, aca])\n",
    "rs, tfs = ahkab.run(lpf, syma)['symbolic']\n",
    "r['op'].keys()\n",
    "r['ac'].keys()\n",
    "\n",
    "# Print symbolic transfer function for input to output\n",
    "#print(rs)\n",
    "Hs = tfs['VOUT/V1']['gain']\n",
    "print(\"Transfer function: %s\" % Hs)\n",
    "print(\"Poles: %s\" % tfs['VOUT/V1']['poles'])\n",
    "p0 = tfs['VOUT/V1']['poles'][0]\n",
    "p1 = tfs['VOUT/V1']['poles'][1]\n",
    "\n",
    "# Noise transfer functions for each source\n",
    "rs_r1, tfs_r1 = ahkab.run(lpf, ahkab.new_symbolic(source='Inr1'))['symbolic']\n",
    "rs_r2, tfs_r2 = ahkab.run(lpf, ahkab.new_symbolic(source='Inr2'))['symbolic']\n",
    "rs_e1, tfs_e1 = ahkab.run(lpf, ahkab.new_symbolic(source='Ine1'))['symbolic']\n",
    "Hs_r1 = tfs_r1['VOUT/INR1']['gain']\n",
    "Hs_r2 = tfs_r2['VOUT/INR2']['gain']\n",
    "Hs_e1 = tfs_e1['VOUT/INE1']['gain']\n",
    "print(\"R1 noise current TF: %s\" % Hs_r1)\n",
    "print(\"R2 noise current TF: %s\" % Hs_r2)\n",
    "print(\"Opamp noise current TF: %s\" % Hs_e1)"
   ]
  },
  {
   "cell_type": "code",
   "execution_count": 100,
   "metadata": {},
   "outputs": [
    {
     "name": "stdout",
     "output_type": "stream",
     "text": [
      "DC gain from symbolic analysis: 0 dB\n",
      "Maximum attenuation in the pass band (0-2e+07 Hz) is -0.0738619 dB\n",
      "Minimum attenuation in the stop band (2e+08 Hz - Inf) is 31.8816 dB\n",
      "First pole: -1.98944e+07 + 2.48481e+07j Hz (3.1831e+07)\n",
      "Second pole: -1.98944e+07 + -2.48481e+07j Hz (3.1831e+07)\n",
      "Simulation temp: 300 K\n",
      "Input referred noise power from R1: 3.31356e-10 V^2\n",
      "Input referred noise power from R2: 2.57258e-10 V^2\n",
      "Input referred noise power from opamp: 0 V^2\n",
      "Total input referred noise power: 5.88613e-10 V^2\n",
      "Min. voltage (zero-pk): 0.01085\n",
      "Voltage swing attainable? True\n"
     ]
    }
   ],
   "source": [
    "# Evaluate w/ chosen R & C values.\n",
    "# TODO: solve for these values using Sympy\n",
    "\n",
    "Rbase = 500\n",
    "m = 2\n",
    "Cbase = 10e-12\n",
    "n = 2\n",
    "R1val = Rbase*m\n",
    "R2val = Rbase/m\n",
    "C1val = Cbase*m\n",
    "C2val = Cbase/m\n",
    "\n",
    "s, R1, R2, C1, C2 = rs.as_symbols('s R1 R2 C1 C2')\n",
    "#s, R1, R2, C1, C2, E1, RO, CL = rs.as_symbols('s R1 R2 C1 C2 E1 RO CL') # w/ non-zero ro\n",
    "\n",
    "# Passband/stopband\n",
    "HS = sp.lambdify(f, Hs.subs({s:I*f*2*np.pi, R1:R1val, R2:R2val, C1:C1val, C2:C2val})) #, E1:Av, RO:ro, CL:Cload}))\n",
    "print(\"DC gain from symbolic analysis: %g dB\" % (20*np.log10(np.abs(HS(0)))))\n",
    "print(\"Maximum attenuation in the pass band (0-%g Hz) is %g dB\" % (20e6, -20*np.log10(np.abs(HS(20e6)))))\n",
    "print(\"Minimum attenuation in the stop band (%g Hz - Inf) is %g dB\" % (200e6, -20*np.log10(np.abs(HS(200e6)))))\n",
    "\n",
    "# Poles\n",
    "p0s = p0.subs({R1:R1val, R2:R2val, C1:C1val, C2:C2val})/2/np.pi\n",
    "p1s = p1.subs({R1:R1val, R2:R2val, C1:C1val, C2:C2val})/2/np.pi\n",
    "print(\"First pole: %g + %gj Hz (%g)\" % (sp.re(p0s), sp.im(p0s), sp.Abs(p0s)))\n",
    "print(\"Second pole: %g + %gj Hz (%g)\" % (sp.re(p1s), sp.im(p1s), sp.Abs(p1s)))\n",
    "\n",
    "# Find how much input referred integrated noise there is\n",
    "# Then check if DR is achievable based on supply & V*\n",
    "print(\"Simulation temp: %g K\" % ahkab.constants.Tref)\n",
    "kT4 = 4*k*ahkab.constants.Tref\n",
    "# Assume all opamp noise is from a single transistor w/ some effective gm\n",
    "gamma = 2/3\n",
    "gm = 0.005\n",
    "in2_r1 = kT4/R1val\n",
    "in2_r2 = kT4/R2val\n",
    "in2_e1 = kT4*gamma*gm\n",
    "vi2_r1 = sp.integrate(sp.Abs(((Hs_r1/Hs).subs({s:I*f*2*np.pi, R1:R1val, R2:R2val, C1:C1val, C2:C2val}))**2) * in2_r1, (f, 0, 20e6))\n",
    "print(\"Input referred noise power from R1: %g V^2\" % vi2_r1)\n",
    "vi2_r2 = sp.integrate(sp.Abs(((Hs_r2/Hs).subs({s:I*f*2*np.pi, R1:R1val, R2:R2val, C1:C1val, C2:C2val}))**2) * in2_r2, (f, 0, 20e6))\n",
    "print(\"Input referred noise power from R2: %g V^2\" % vi2_r2)\n",
    "vi2_e1 = sp.integrate(sp.Abs(((Hs_e1/Hs).subs({s:I*f*2*np.pi, R1:R1val, R2:R2val, C1:C1val, C2:C2val}))**2) * in2_e1, (f, 0, 20e6))\n",
    "print(\"Input referred noise power from opamp: %g V^2\" % vi2_e1)\n",
    "vi2_tot = (vi2_r1 + vi2_r2 + vi2_e1).evalf()\n",
    "print(\"Total input referred noise power: %g V^2\" % vi2_tot)\n",
    "SNR = 10**(50/10)\n",
    "vi_min = sp.sqrt(vi2_tot*SNR*2)\n",
    "print(\"Min. voltage (zero-pk): %g\" % vi_min)\n",
    "Vstar = 0.1 #assumption\n",
    "print(\"Voltage swing attainable? %r\" % (vi_min < 0.6-Vstar))"
   ]
  },
  {
   "cell_type": "code",
   "execution_count": 98,
   "metadata": {},
   "outputs": [
    {
     "data": {
      "image/png": "[encoded data removed]",
      "text/plain": [
       "<Figure size 432x288 with 2 Axes>"
      ]
     },
     "metadata": {
      "needs_background": "light"
     },
     "output_type": "display_data"
    }
   ],
   "source": [
    "fig = plt.figure()\n",
    "plt.subplot(211)\n",
    "plt.semilogx(r['ac']['f'], 20*np.log10(np.abs(r['ac']['Vout'])), '-', label='H(s) from AC analysis')\n",
    "plt.semilogx(r['ac']['f'], 20*np.log10(np.abs(HS(r['ac'].get_x()))), '-', lw=5, alpha=.25, label='H(s) from symbolic')\n",
    "#plt.semilogx(r['ac']['f'], 20*np.log10(np.abs(HS_r1(r['ac'].get_x()))), '-', label='H(s) from resistor to output')\n",
    "plt.ylabel('|H(s)| [dB]')\n",
    "plt.title(lpf.title + \" - AC vs. Symbolic\")\n",
    "plt.legend(); plt.grid(True);\n",
    "plt.subplot(212)\n",
    "plt.semilogx(r['ac']['f'], 180/np.pi*np.angle(r['ac']['Vout']), '-', label='Phase from AC analysis')\n",
    "plt.semilogx(r['ac']['f'], 180/np.pi*(np.angle(HS(r['ac'].get_x()))), '-', lw=5, alpha=.25, label='Phase from symbolic')\n",
    "plt.xlabel('Frequency [Hz]')\n",
    "plt.ylabel('Phase [deg]')\n",
    "#fig.savefig('ac_plot.png')\n",
    "plt.legend(); plt.grid(True);\n",
    "plt.show();"
   ]
  },
  {
   "cell_type": "code",
   "execution_count": 70,
   "metadata": {},
   "outputs": [
    {
     "name": "stdout",
     "output_type": "stream",
     "text": [
      "DC gain from AC analysis: -0.000342924 dB\n",
      "Maximum attenuation in the pass band (0-2e+07 Hz) is 83.9631 dB\n",
      "Minimum attenuation in the stop band (2e+08 Hz - Inf) is 123.926 dB\n"
     ]
    }
   ],
   "source": [
    "# Check against AC simulation\n",
    "# DC gain\n",
    "dc_gain = 20*np.log10(np.abs(r['ac']['Vout'][0]))\n",
    "print(\"DC gain from AC analysis: %g dB\" % (dc_gain))\n",
    "\n",
    "# Normalize the output to the low frequency value and convert to array\n",
    "norm_out = np.abs(r['ac']['Vout'])/np.abs(r['ac']['Vout']).max()\n",
    "# Convert to dB\n",
    "norm_out_db = 20*np.log10(norm_out)\n",
    "# Get frequencies\n",
    "frequencies = r['ac']['f']\n",
    "# call scipy to interpolate\n",
    "norm_out_db_interpolated = scipy.interpolate.interp1d(frequencies, norm_out_db)\n",
    "\n",
    "print(\"Maximum attenuation in the pass band (0-%g Hz) is %g dB\" % (20e6, -1.0*norm_out_db_interpolated(20e6)))\n",
    "print(\"Minimum attenuation in the stop band (%g Hz - Inf) is %g dB\" % (200e6, -1.0*norm_out_db_interpolated(200e6)))"
   ]
  }
 ],
 "metadata": {
  "kernelspec": {
   "display_name": "Python 2",
   "language": "python",
   "name": "python2"
  },
  "language_info": {
   "codemirror_mode": {
    "name": "ipython",
    "version": 3
   },
   "file_extension": ".py",
   "mimetype": "text/x-python",
   "name": "python",
   "nbconvert_exporter": "python",
   "pygments_lexer": "ipython3",
   "version": "3.6.7"
  }
 },
 "nbformat": 4,
 "nbformat_minor": 2
}
