{
 "cells": [
  {
   "cell_type": "code",
   "execution_count": 60,
   "metadata": {},
   "outputs": [
    {
     "name": "stdout",
     "output_type": "stream",
     "text": [
      "We're using ahkab 0.18\n"
     ]
    }
   ],
   "source": [
    "from IPython.core.interactiveshell import InteractiveShell\n",
    "InteractiveShell.ast_node_interactivity = \"all\"\n",
    "\n",
    "import ahkab\n",
    "import numpy as np\n",
    "import matplotlib.pyplot as plt\n",
    "import sympy\n",
    "from sympy.abc import w\n",
    "from sympy import I\n",
    "import scipy, scipy.interpolate\n",
    "print(\"We're using ahkab %s\" % ahkab.__version__)"
   ]
  },
  {
   "cell_type": "code",
   "execution_count": 86,
   "metadata": {},
   "outputs": [
    {
     "name": "stdout",
     "output_type": "stream",
     "text": [
      "3db frequency should be: 15915.5 Hz\n",
      "* 2nd Order Sallen-Key LPF\n",
      "R1 in n1 10000\n",
      "R2 n1 n2 10000\n",
      "C1 n1 out 1e-09\n",
      "C2 n2 0 1e-09\n",
      "E1 out 0 n2 out 100\n",
      "V1 in 0 type=vdc value=0 vac=1 \n"
     ]
    }
   ],
   "source": [
    "lpf = ahkab.Circuit('2nd Order Sallen-Key LPF')\n",
    "# https://en.wikipedia.org/wiki/Sallen–Key_topology\n",
    "R1 = 10e3\n",
    "R2 = 10e3\n",
    "C1 = 1e-9\n",
    "C2 = 1e-9\n",
    "Av = 100\n",
    "\n",
    "bw = 1/np.sqrt(R1*R2*C1*C2)/2/np.pi\n",
    "print(\"3db frequency should be: %g Hz\" % (bw))\n",
    "\n",
    "lpf.add_resistor('R1', 'in', 'n1', R1)\n",
    "lpf.add_resistor('R2', 'n1', 'n2', R2)\n",
    "lpf.add_capacitor('C1', 'n1', 'out', C1)\n",
    "lpf.add_capacitor('C2', 'n2', lpf.gnd, C2)\n",
    "lpf.add_vcvs('E1', 'out', lpf.gnd, 'n2', 'out', Av)\n",
    "\n",
    "# we also give V1 an AC value since we wish to run an AC simulation\n",
    "lpf.add_vsource('V1', 'in', lpf.gnd, dc_value=0, ac_value=1)\n",
    "print(lpf)"
   ]
  },
  {
   "cell_type": "code",
   "execution_count": 91,
   "metadata": {},
   "outputs": [
    {
     "data": {
      "text/plain": [
       "['VIN', 'VN1', 'VN2', 'VOUT', 'I(E1)', 'I(V1)']"
      ]
     },
     "execution_count": 91,
     "metadata": {},
     "output_type": "execute_result"
    },
    {
     "data": {
      "text/plain": [
       "['f', 'Vin', 'Vn1', 'Vn2', 'Vout', 'I(E1)', 'I(V1)']"
      ]
     },
     "execution_count": 91,
     "metadata": {},
     "output_type": "execute_result"
    },
    {
     "name": "stdout",
     "output_type": "stream",
     "text": [
      "Symbolic simulation results for '2nd Order Sallen-Key LPF' (netlist None).\n",
      "Run on 2019-03-14 00:29:38.\n",
      "I[E1]\t = C1*C2*R2*V1*s**2/(C1*C2*R1*R2*s**2 + C2*R1*s + C2*R2*s + 1.0)\n",
      "I[V1]\t = -C2*V1*s*(C1*R2*s + 1.0)/(C1*C2*R1*R2*s**2 + C2*R1*s + C2*R2*s + 1.0)\n",
      "VIN\t = V1\n",
      "VN1\t = V1*(C2*R2*s + 1.0)/(C1*C2*R1*R2*s**2 + C2*R1*s + C2*R2*s + 1.0)\n",
      "VN2\t = V1/(C1*C2*R1*R2*s**2 + C2*R1*s + C2*R2*s + 1.0)\n",
      "VOUT\t = V1/(C1*C2*R1*R2*s**2 + C2*R1*s + C2*R2*s + 1.0)\n",
      "\n",
      "Transfer function: 1/(C1*C2*R1*R2*s**2 + C2*R1*s + C2*R2*s + 1.0)\n",
      "Poles: [0.5*(-sqrt(C2)*(R1 + R2) + sqrt(-4.0*C1*R1*R2 + C2*R1**2 + 2.0*C2*R1*R2 + C2*R2**2))/(C1*sqrt(C2)*R1*R2), -0.5*(sqrt(C2)*(R1 + R2) + sqrt(-4.0*C1*R1*R2 + C2*R1**2 + 2.0*C2*R1*R2 + C2*R2**2))/(C1*sqrt(C2)*R1*R2)]\n"
     ]
    }
   ],
   "source": [
    "opa = ahkab.new_op()\n",
    "aca = ahkab.new_ac(start=1e2, stop=1e5, points=100)\n",
    "pza = ahkab.new_pz('V1', ('out', lpf.gnd), x0=None, shift=1e3)\n",
    "syma = ahkab.new_symbolic(source='V1')\n",
    "r = ahkab.run(lpf, [opa, aca, pza])\n",
    "rs, tfs = ahkab.run(lpf, syma)['symbolic']\n",
    "r['op'].keys()\n",
    "r['ac'].keys()\n",
    "#r['pz'].keys() #pz analysis didn't work\n",
    "\n",
    "# Print symbolic solution\n",
    "print(rs)\n",
    "Hs = tfs['VOUT/V1']['gain']\n",
    "print(\"Transfer function: %s\" % Hs)\n",
    "print(\"Poles: %s\" % tfs['VOUT/V1']['poles'])\n",
    "p0 = tfs['VOUT/V1']['poles'][0]\n",
    "p1 = tfs['VOUT/V1']['poles'][1]"
   ]
  },
  {
   "cell_type": "code",
   "execution_count": 95,
   "metadata": {},
   "outputs": [
    {
     "name": "stdout",
     "output_type": "stream",
     "text": [
      "First pole: 15915.5 Hz\n",
      "Second pole: 15915.5 Hz\n"
     ]
    }
   ],
   "source": [
    "s, R1, R2, C1, C2 = rs.as_symbols('s R1 R2 C1 C2')\n",
    "HS = sympy.lambdify(w, Hs.subs({s:I*w*2*np.pi, R1:10e3, R2:10e3, C1:1e-9, C2:1e-9}))\n",
    "p0s = np.abs(p0.subs({R1:10e3, R2:10e3, C1:1e-9, C2:1e-9}))/2/np.pi\n",
    "p1s = np.abs(p1.subs({R1:10e3, R2:10e3, C1:1e-9, C2:1e-9}))/2/np.pi\n",
    "print(\"First pole: %g Hz\" % p0s)\n",
    "print(\"Second pole: %g Hz\" % p1s)"
   ]
  },
  {
   "cell_type": "code",
   "execution_count": 88,
   "metadata": {},
   "outputs": [
    {
     "data": {
      "text/plain": [
       "<matplotlib.axes._subplots.AxesSubplot at 0x7f112ac2e0b8>"
      ]
     },
     "execution_count": 88,
     "metadata": {},
     "output_type": "execute_result"
    },
    {
     "data": {
      "text/plain": [
       "[<matplotlib.lines.Line2D at 0x7f112ac53208>]"
      ]
     },
     "execution_count": 88,
     "metadata": {},
     "output_type": "execute_result"
    },
    {
     "data": {
      "text/plain": [
       "[<matplotlib.lines.Line2D at 0x7f112ad5bb00>]"
      ]
     },
     "execution_count": 88,
     "metadata": {},
     "output_type": "execute_result"
    },
    {
     "data": {
      "text/plain": [
       "Text(0, 0.5, '|H(s)| [dB]')"
      ]
     },
     "execution_count": 88,
     "metadata": {},
     "output_type": "execute_result"
    },
    {
     "data": {
      "text/plain": [
       "Text(0.5, 1.0, '2nd Order Sallen-Key LPF - AC Simulation')"
      ]
     },
     "execution_count": 88,
     "metadata": {},
     "output_type": "execute_result"
    },
    {
     "data": {
      "text/plain": [
       "<matplotlib.axes._subplots.AxesSubplot at 0x7f112ac44f60>"
      ]
     },
     "execution_count": 88,
     "metadata": {},
     "output_type": "execute_result"
    },
    {
     "data": {
      "text/plain": [
       "[<matplotlib.lines.Line2D at 0x7f112af66cf8>]"
      ]
     },
     "execution_count": 88,
     "metadata": {},
     "output_type": "execute_result"
    },
    {
     "data": {
      "text/plain": [
       "Text(0.5, 0, 'Frequency [Hz]')"
      ]
     },
     "execution_count": 88,
     "metadata": {},
     "output_type": "execute_result"
    },
    {
     "data": {
      "text/plain": [
       "Text(0, 0.5, 'Phase [deg]')"
      ]
     },
     "execution_count": 88,
     "metadata": {},
     "output_type": "execute_result"
    },
    {
     "data": {
      "image/png": "[encoded data removed]",
      "text/plain": [
       "<Figure size 432x288 with 2 Axes>"
      ]
     },
     "metadata": {
      "needs_background": "light"
     },
     "output_type": "display_data"
    }
   ],
   "source": [
    "fig = plt.figure()\n",
    "plt.subplot(211)\n",
    "plt.semilogx(r['ac']['f'], 20*np.log10(np.abs(r['ac']['Vout'])), '-', label='H(s) from AC analysis')\n",
    "plt.semilogx(r['ac']['f'], 20*np.log10(np.abs(HS(r['ac'].get_x()))), '-', lw=5, alpha=.25, label='H(s) from symbolic')\n",
    "plt.ylabel('|H(s)| [dB]')\n",
    "plt.title(lpf.title + \" - AC Simulation\")\n",
    "plt.subplot(212)\n",
    "plt.grid(True)\n",
    "plt.semilogx(r['ac']['f'], 180/np.pi*np.angle(r['ac']['Vout']), '-')\n",
    "plt.xlabel('Frequency [Hz]')\n",
    "plt.ylabel('Phase [deg]')\n",
    "#fig.savefig('ac_plot.png')\n",
    "plt.show()"
   ]
  },
  {
   "cell_type": "code",
   "execution_count": null,
   "metadata": {},
   "outputs": [],
   "source": []
  },
  {
   "cell_type": "code",
   "execution_count": 87,
   "metadata": {},
   "outputs": [
    {
     "name": "stdout",
     "output_type": "stream",
     "text": [
      "DC gain: -0.000343159 dB\n",
      "Maximum attenuation in the pass band (0-15915.5 Hz) is 6.02029 dB\n",
      "Minimum attenuation in the stop band (20000 Hz - Inf) is 8.22882 dB\n"
     ]
    }
   ],
   "source": [
    "# DC gain\n",
    "dc_gain = 20*np.log10(np.abs(r['ac']['Vout'][0]))\n",
    "print(\"DC gain: %g dB\" % (dc_gain))\n",
    "\n",
    "# Normalize the output to the low frequency value and convert to array\n",
    "norm_out = np.abs(r['ac']['Vout'])/np.abs(r['ac']['Vout']).max()\n",
    "# Convert to dB\n",
    "norm_out_db = 20*np.log10(norm_out)\n",
    "# Get frequencies\n",
    "frequencies = r['ac']['f']\n",
    "# call scipy to interpolate\n",
    "norm_out_db_interpolated = scipy.interpolate.interp1d(frequencies, norm_out_db)\n",
    "\n",
    "print(\"Maximum attenuation in the pass band (0-%g Hz) is %g dB\" % (bw, -1.0*norm_out_db_interpolated(bw)))\n",
    "print(\"Minimum attenuation in the stop band (%g Hz - Inf) is %g dB\" % (20e3, -1.0*norm_out_db_interpolated(20e3)))"
   ]
  }
 ],
 "metadata": {
  "kernelspec": {
   "display_name": "Python 2",
   "language": "python",
   "name": "python2"
  },
  "language_info": {
   "codemirror_mode": {
    "name": "ipython",
    "version": 3
   },
   "file_extension": ".py",
   "mimetype": "text/x-python",
   "name": "python",
   "nbconvert_exporter": "python",
   "pygments_lexer": "ipython3",
   "version": "3.6.7"
  }
 },
 "nbformat": 4,
 "nbformat_minor": 2
}
